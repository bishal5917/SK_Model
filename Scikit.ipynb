{
 "cells": [
  {
   "cell_type": "markdown",
   "id": "a2a52cd9",
   "metadata": {},
   "source": [
    "Scikit Learn"
   ]
  },
  {
   "cell_type": "markdown",
   "id": "15d9357c",
   "metadata": {},
   "source": [
    "An End To end scikit-learn workflow\n",
    "Getting the data ready\n",
    "choosing the right estimator and algorithm of our problems\n",
    "fit the model and use it to make predictions on data\n",
    "Evaluating a model\n",
    "Improve a model\n",
    "Save and load a trained model\n",
    "putting it all together\n",
    "    "
   ]
  },
  {
   "cell_type": "markdown",
   "id": "6055ec07",
   "metadata": {},
   "source": [
    "# An End to End scikit-learn workflow"
   ]
  },
  {
   "cell_type": "code",
   "execution_count": null,
   "id": "d40b16da",
   "metadata": {},
   "outputs": [],
   "source": []
  }
 ],
 "metadata": {
  "kernelspec": {
   "display_name": "Python 3 (ipykernel)",
   "language": "python",
   "name": "python3"
  },
  "language_info": {
   "codemirror_mode": {
    "name": "ipython",
    "version": 3
   },
   "file_extension": ".py",
   "mimetype": "text/x-python",
   "name": "python",
   "nbconvert_exporter": "python",
   "pygments_lexer": "ipython3",
   "version": "3.9.5"
  }
 },
 "nbformat": 4,
 "nbformat_minor": 5
}
